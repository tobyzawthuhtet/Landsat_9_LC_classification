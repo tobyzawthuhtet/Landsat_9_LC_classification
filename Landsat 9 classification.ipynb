{
 "cells": [
  {
   "cell_type": "code",
   "execution_count": null,
   "id": "08d76478",
   "metadata": {},
   "outputs": [],
   "source": [
    "import geopandas as gpd\n",
    "import pandas as pd\n",
    "import rasterio\n",
    "import matplotlib.pyplot as plt\n",
    "import sklearn\n",
    "import numpy as np\n",
    "import tifffile as tfl\n",
    "\n",
    "%matplotlib inline\n"
   ]
  },
  {
   "cell_type": "markdown",
   "id": "8075a1d0",
   "metadata": {},
   "source": [
    "# Data Extraction \n",
    "\n",
    "## train_pts is randomly scattered data over the area of interest of Yangon. The points are then being scattered and values of labels and training data are being extracted to it."
   ]
  },
  {
   "cell_type": "code",
   "execution_count": null,
   "id": "b9c230eb",
   "metadata": {},
   "outputs": [],
   "source": [
    "train_pts = gpd.read_file('./training_data/final_training_data.shp')\n",
    "train_pts\n"
   ]
  },
  {
   "cell_type": "markdown",
   "id": "63d8aa0d",
   "metadata": {},
   "source": [
    "'RASTERVALU' is the value of labels from ESRI landcover"
   ]
  },
  {
   "cell_type": "markdown",
   "id": "fac4d3de",
   "metadata": {},
   "source": [
    "## 'composite.tif' is the composite layer stacked Landsat 9 images. You can either insert multispectral layerstacked geotif images or PCA reduced image."
   ]
  },
  {
   "cell_type": "code",
   "execution_count": null,
   "id": "cc4f4ddb",
   "metadata": {},
   "outputs": [],
   "source": [
    "#Reading Raster Data \n",
    "\n",
    "comp = 'composite.tif'\n",
    "src= rasterio.open(comp)\n",
    "img = src.read()   # load our original input file bands to a numby array stack\n",
    "img = img/4096.0\n",
    "img = img.astype('float32')\n",
    "profile = src.profile  # the copy the profile of the original GeoTIFF input file\n",
    "with rasterio.io.MemoryFile() as memfile:\n",
    "    with memfile.open(**profile) as dst:\n",
    "        for i in range(0, src.count):\n",
    "            dst.write(img[i], i+1)\n",
    "    dataset = memfile.open()\n",
    " \n",
    "print(img.shape)    \n"
   ]
  },
  {
   "cell_type": "code",
   "execution_count": null,
   "id": "72fc058b",
   "metadata": {},
   "outputs": [],
   "source": [
    "bands = list(src.descriptions) # Uncomment this if you are using multispectral satellite image\n",
    "# bands = ['PCA_1','PCA_2','PCA_3','PCA_4'] # Uncomment this if you are using PCA image \n",
    "bands"
   ]
  },
  {
   "cell_type": "code",
   "execution_count": null,
   "id": "9545610e",
   "metadata": {},
   "outputs": [],
   "source": [
    "# %%time\n",
    "# Read points from shapefile\n",
    "train_pts = gpd.read_file('./training_data/') \n",
    "\n",
    "train_pts = train_pts[['RASTERVALU', 'UTM_E', 'UTM_N', 'geometry']]  # These are the attributes in our point dataset\n",
    "train_pts.index = range(len(train_pts))\n",
    "coords = [(x,y) for x, y in zip(train_pts.UTM_E, train_pts.UTM_N)]  # Create list of point coordinates\n",
    "# Sample the each band of raster dataset at each point in the coordinate list\n",
    "train_pts['Raster Value'] = [x for x in dataset.sample(coords)]# all band values are saved as a list in the Raster Value column \n",
    "# Unpack the Raster Value column to separate column for each band - band names were retrieved with snappy and are now usef as column names\n",
    "train_pts[bands] = pd.DataFrame(train_pts['Raster Value'].tolist(), index= train_pts.index)  \n",
    "train_pts = train_pts.drop(['Raster Value'], axis=1)  # Remove Raster Value column\n",
    "train_pts.to_csv(r'Finale_Training_data.csv') # save our training dataset to CSV\n",
    "train_pts.head() # visualize the first rows of the dataframe "
   ]
  },
  {
   "cell_type": "markdown",
   "id": "35929ab9",
   "metadata": {},
   "source": [
    "# Creating Training Dataset"
   ]
  },
  {
   "cell_type": "code",
   "execution_count": null,
   "id": "fdb2cb3f",
   "metadata": {},
   "outputs": [],
   "source": [
    "x = []\n",
    "x.append(train_pts[bands].values)\n",
    "\n",
    "y = train_pts['Label'].values"
   ]
  },
  {
   "cell_type": "code",
   "execution_count": null,
   "id": "6499a496",
   "metadata": {},
   "outputs": [],
   "source": [
    "print(f'Shape of x array is {np.asarray(x).shape}')"
   ]
  },
  {
   "cell_type": "code",
   "execution_count": null,
   "id": "51efae1f",
   "metadata": {},
   "outputs": [],
   "source": [
    "print(f'Shape of y array is {y.shape}')"
   ]
  },
  {
   "cell_type": "markdown",
   "id": "03b18c2a",
   "metadata": {},
   "source": [
    "# Create Random Forest Classifier to fit the data"
   ]
  },
  {
   "cell_type": "code",
   "execution_count": null,
   "id": "9d9bceb3",
   "metadata": {},
   "outputs": [],
   "source": [
    "# Fitting Random Forest Classifier from sklearn\n",
    "\n",
    "from sklearn.ensemble import RandomForestClassifier\n",
    "model_RF = []\n",
    "rf = RandomForestClassifier(n_estimators=300, oob_score=True, max_features='auto')\n",
    "rf = rf.fit(x[0],y)\n",
    "model_RF.append(rf)\n",
    "\n",
    "print('Our OOB prediction of accuracy of landsat 9 is {}'.format(model_RF[0].oob_score_*100))"
   ]
  },
  {
   "cell_type": "markdown",
   "id": "c5e7d740",
   "metadata": {},
   "source": [
    "# Inferencing on the whole area"
   ]
  },
  {
   "cell_type": "code",
   "execution_count": null,
   "id": "fc11830f",
   "metadata": {
    "scrolled": true
   },
   "outputs": [],
   "source": [
    "#Reshaping geotiff image for prediction\n",
    "\n",
    "from rasterio.plot import reshape_as_raster, reshape_as_image \n",
    "reshaped_img = reshape_as_image(img)\n",
    "print('Landsat 9 Orignal image shape:',reshaped_img.shape)\n",
    "reshaped_img = reshaped_img.reshape(-1,reshaped_img[2].shape[1])\n",
    "print('Reshaped Image shape:',reshaped_img.shape)"
   ]
  },
  {
   "cell_type": "code",
   "execution_count": null,
   "id": "6a298dd5",
   "metadata": {},
   "outputs": [],
   "source": [
    "#Inferencing on image\n",
    "pred = rf.predict(reshaped_img)\n",
    "pred =pred.reshape(img.shape[1],img.shape[2])\n",
    "print(pred.shape)\n",
    "\n",
    "plt.figure(figsize=(10,10))\n",
    "plt.imshow(pred,cmap='gist_earth')"
   ]
  },
  {
   "cell_type": "markdown",
   "id": "e494b05e",
   "metadata": {},
   "source": [
    "## 'mask_label.tif' is an area of interest clipped image downloaded from ESRI landcover cloud. \n",
    "\n",
    "Link : https://www.arcgis.com/apps/instant/media/index.html?appid=fc92d38533d440078f17678ebc20e8e2"
   ]
  },
  {
   "cell_type": "code",
   "execution_count": null,
   "id": "17c005af",
   "metadata": {},
   "outputs": [],
   "source": [
    "#reading mask label \n",
    "mask_label ='mask_label.tif'\n",
    "mask_label =tfl.imread(mask_label)\n",
    "mask_label.shape"
   ]
  },
  {
   "cell_type": "code",
   "execution_count": null,
   "id": "b83eb871",
   "metadata": {},
   "outputs": [],
   "source": [
    "from sklearn.metrics import classification_report\n",
    "label = ['Classification report']\n",
    "pred_flat = pred.flatten()\n",
    "label_flat = mask_label.flatten()\n",
    "print(label)\n",
    "print(classification_report(pred_flat,label_flat,zero_division=0));\n"
   ]
  },
  {
   "cell_type": "code",
   "execution_count": null,
   "id": "ef6a0910",
   "metadata": {},
   "outputs": [],
   "source": [
    "fig,(ax1,ax2)= plt.subplots(1,2,figsize=(20,10))\n",
    "ax1.imshow(pred,cmap='gist_earth')\n",
    "ax1.set_title('Random Forest Predictions');\n",
    "ax2.imshow(mask_label,cmap='gist_earth')\n",
    "ax2.set_title('Landcover Label Data from ESRI ');\n"
   ]
  },
  {
   "cell_type": "code",
   "execution_count": null,
   "id": "a2eaa606",
   "metadata": {},
   "outputs": [],
   "source": []
  }
 ],
 "metadata": {
  "kernelspec": {
   "display_name": "Python 3",
   "language": "python",
   "name": "python3"
  },
  "language_info": {
   "codemirror_mode": {
    "name": "ipython",
    "version": 3
   },
   "file_extension": ".py",
   "mimetype": "text/x-python",
   "name": "python",
   "nbconvert_exporter": "python",
   "pygments_lexer": "ipython3",
   "version": "3.8.11"
  }
 },
 "nbformat": 4,
 "nbformat_minor": 5
}
